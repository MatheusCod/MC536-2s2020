{
 "cells": [
  {
   "cell_type": "code",
   "execution_count": 1,
   "metadata": {},
   "outputs": [],
   "source": [
    "%defaultDatasource jdbc:h2:mem:db"
   ]
  },
  {
   "cell_type": "code",
   "execution_count": 2,
   "metadata": {},
   "outputs": [],
   "source": [
    "DROP TABLE IF EXISTS Drug;\n",
    "DROP TABLE IF EXISTS Pathology;\n",
    "DROP TABLE IF EXISTS DrugUse;\n",
    "\n",
    "CREATE TABLE Drug (\n",
    "  code INT NOT NULL,\n",
    "  name VARCHAR(200) NOT NULL,\n",
    "  PRIMARY KEY(code)\n",
    ") AS SELECT\n",
    "    code,\n",
    "    name\n",
    "FROM CSVREAD('../../../data/faers-2017/drug.csv');\n",
    "\n",
    "CREATE TABLE Pathology (\n",
    "  code INT NOT NULL,\n",
    "  name VARCHAR(200) NOT NULL,\n",
    "  PRIMARY KEY(code)\n",
    ") AS SELECT\n",
    "    code,\n",
    "    name\n",
    "FROM CSVREAD('../../../data/faers-2017/pathology.csv');\n",
    "\n",
    "CREATE TABLE DrugUse (\n",
    "  idPerson INT NOT NULL,\n",
    "  codePathology INT NOT NULL,\n",
    "  codeDrug INT NOT NULL,\n",
    "  FOREIGN KEY(codePathology)\n",
    "    REFERENCES Pathology(code)\n",
    "      ON DELETE NO ACTION\n",
    "      ON UPDATE NO ACTION,\n",
    "  FOREIGN KEY(codeDrug)\n",
    "    REFERENCES Drug(code)\n",
    "      ON DELETE NO ACTION\n",
    "      ON UPDATE NO ACTION,\n",
    ") AS SELECT\n",
    "    idPerson,\n",
    "    codePathology,\n",
    "    codeDrug\n",
    "FROM CSVREAD('../../../data/faers-2017/drug-use.csv');\n",
    "\n",
    "CREATE TABLE SideEffect(\n",
    "  idPerson INT NOT NULL,\n",
    "  codePathology INT NOT NULL,\n",
    "  FOREIGN KEY(codePathology)\n",
    "    REFERENCES Pathology(code)\n",
    "      ON DELETE NO ACTION\n",
    "      ON UPDATE NO ACTION\n",
    ") AS SELECT idPerson, codePathology\n",
    "FROM CSVREAD('../../../data/faers-2017/sideeffect.csv');"
   ]
  },
  {
   "cell_type": "code",
   "execution_count": 3,
   "metadata": {},
   "outputs": [
    {
     "data": {
      "application/vnd.jupyter.widget-view+json": {
       "model_id": "498b6a53-db10-425c-8d40-b128f6d9feba",
       "version_major": 2,
       "version_minor": 0
      },
      "method": "display_data"
     },
     "metadata": {},
     "output_type": "display_data"
    },
    {
     "data": {
      "application/vnd.jupyter.widget-view+json": {
       "model_id": "2c7454be-c6a6-48ac-9dc6-7ae967320a1a",
       "version_major": 2,
       "version_minor": 0
      },
      "method": "display_data"
     },
     "metadata": {},
     "output_type": "display_data"
    },
    {
     "data": {
      "application/vnd.jupyter.widget-view+json": {
       "model_id": "d78ae6f8-1c08-418d-847d-c76ecd901e81",
       "version_major": 2,
       "version_minor": 0
      },
      "method": "display_data"
     },
     "metadata": {},
     "output_type": "display_data"
    },
    {
     "data": {
      "application/vnd.jupyter.widget-view+json": {
       "model_id": "1d395cc8-a6ee-4a9d-8747-abe11918201c",
       "version_major": 2,
       "version_minor": 0
      },
      "method": "display_data"
     },
     "metadata": {},
     "output_type": "display_data"
    }
   ],
   "source": [
    "SELECT * FROM Drug;\n",
    "SELECT * FROM Pathology;\n",
    "SELECT * FROM DrugUse;\n",
    "SELECT * FROM SideEffect;"
   ]
  },
  {
   "cell_type": "markdown",
   "metadata": {},
   "source": [
    "# FDA Adverse Event Reporting System (FAERS)\n",
    "\n",
    "Considere a base de dados que reúne relatos de efeitos adversos de drogas: [FDA Adverse Event Reporting System (FAERS)](https://open.fda.gov/data/faers/).\n",
    "\n",
    "As fontes de dados são publicadas e documentadas em: [Latest Quarterly Data Files](https://www.fda.gov/drugs/fda-adverse-event-reporting-system-faers/fda-adverse-event-reporting-system-faers-latest-quarterly-data-files)"
   ]
  },
  {
   "cell_type": "markdown",
   "metadata": {},
   "source": [
    "# Interação entre medicamentos\n",
    "Considere como uma interação toda vez que um medicamento A é tomado em conjunto com um medicamento B por uma pessoa. Crie uma consulta que retorne para cada par de medicamento A,B o número de interações, somente para aqueles medicamentos que são tomados em conjunto mais de 30 vezes (passaremos a chamar de **grupo mais 30**)."
   ]
  },
  {
   "cell_type": "code",
   "execution_count": 4,
   "metadata": {},
   "outputs": [
    {
     "data": {
      "application/vnd.jupyter.widget-view+json": {
       "model_id": "2efc88b8-2160-49bc-b7c3-cb963fa13b4e",
       "version_major": 2,
       "version_minor": 0
      },
      "method": "display_data"
     },
     "metadata": {},
     "output_type": "display_data"
    }
   ],
   "source": [
    "SELECT *\n",
    "FROM (SELECT DRUGA, DRUGB, COUNT(*) WEIGHT\n",
    "      FROM (SELECT CODEDRUG DRUGA, IDPERSON ID1\n",
    "            FROM DRUGUSE) DB1,\n",
    "           (SELECT CODEDRUG DRUGB, IDPERSON ID2\n",
    "            FROM DRUGUSE) DB2\n",
    "      WHERE DB1.ID1 = DB2.ID2 AND DB1.DRUGA != DB2.DRUGB\n",
    "      GROUP BY DRUGA, DRUGB)\n",
    "WHERE WEIGHT > 30 AND DRUGA < DRUGB;"
   ]
  },
  {
   "cell_type": "markdown",
   "metadata": {},
   "source": [
    "## Tabela Resultante\n",
    "\n",
    "Se estiver demorando muito para gerar a tabela, você poderá usar a seguinte tabela resultante pronta. Essa tabela tem todas as interações, você ainda precisará filtrar o **grupo mais 30**."
   ]
  },
  {
   "cell_type": "code",
   "execution_count": 5,
   "metadata": {},
   "outputs": [
    {
     "data": {
      "application/vnd.jupyter.widget-view+json": {
       "model_id": "d1ef6359-5830-4898-86f4-b63501f6a47d",
       "version_major": 2,
       "version_minor": 0
      },
      "method": "display_data"
     },
     "metadata": {},
     "output_type": "display_data"
    }
   ],
   "source": [
    "CREATE TABLE DrugInteraction (\n",
    "  druga INT NOT NULL,\n",
    "  drugb INT NOT NULL,\n",
    "  weight INT NOT NULL,\n",
    "  PRIMARY KEY(druga, drugb)\n",
    ") AS SELECT\n",
    "    druga,\n",
    "    drugb,\n",
    "    weight\n",
    "FROM CSVREAD('../../../data/faers-2017/results/drug-interaction.csv');\n",
    "\n",
    "SELECT * FROM DrugInteraction;"
   ]
  },
  {
   "cell_type": "markdown",
   "metadata": {},
   "source": [
    "# Suporte\n",
    "\n",
    "### Qual o suporte que cada uma das associações tem?\n",
    "\n",
    "Gere uma consulta que apresente o suporte do **grupo mais 30**. Ordene o resultado por ordem de suporte. \n",
    "\n",
    "Observação: Para que o resultado da divisão seja fracionária, converta o numerador em `DOUBLE` usando:\n",
    "~~~sql\n",
    "CAST(campo AS DOUBLE)\n",
    "~~~"
   ]
  },
  {
   "cell_type": "code",
   "execution_count": 6,
   "metadata": {},
   "outputs": [
    {
     "data": {
      "application/vnd.jupyter.widget-view+json": {
       "model_id": "35a28973-aa03-4395-9d08-275f59f1bf09",
       "version_major": 2,
       "version_minor": 0
      },
      "method": "display_data"
     },
     "metadata": {},
     "output_type": "display_data"
    }
   ],
   "source": [
    "SELECT DI.DRUGA,\n",
    "       DI.DRUGB,\n",
    "       CAST(DI.WEIGHT AS DOUBLE) / (SELECT SUM(WEIGHT)\n",
    "                                    FROM DRUGINTERACTION\n",
    "                                    WHERE WEIGHT > 30) SUPPORT\n",
    "FROM DRUGINTERACTION DI\n",
    "WHERE DI.WEIGHT > 30\n",
    "GROUP BY DI.DRUGA, DI.DRUGB\n",
    "ORDER BY SUPPORT;"
   ]
  },
  {
   "cell_type": "markdown",
   "metadata": {},
   "source": [
    "# Confiança\n",
    "\n",
    "### Qual a confiança que cada uma das associações tem?\n",
    "\n",
    "Gere uma consulta que apresente a confiança do **grupo mais 30**. Ordene o resultado por ordem de confiança."
   ]
  },
  {
   "cell_type": "code",
   "execution_count": null,
   "metadata": {},
   "outputs": [],
   "source": []
  },
  {
   "cell_type": "markdown",
   "metadata": {},
   "source": [
    "# Efeito Colateral\n",
    "\n",
    "Para cada medicamento, qual o percentual do medicamento A que tem efeito colateral junto com o medicamento B, quando comparado com seu uso sem o medicamento B."
   ]
  },
  {
   "cell_type": "code",
   "execution_count": null,
   "metadata": {},
   "outputs": [],
   "source": []
  }
 ],
 "metadata": {
  "kernelspec": {
   "display_name": "SQL",
   "language": "SQL",
   "name": "sql"
  },
  "language_info": {
   "codemirror_mode": "sql",
   "file_extension": ".sql",
   "mimetype": "",
   "name": "SQL",
   "nbconverter_exporter": "",
   "version": ""
  },
  "toc": {
   "base_numbering": 1,
   "nav_menu": {},
   "number_sections": false,
   "sideBar": false,
   "skip_h1_title": false,
   "title_cell": "Table of Contents",
   "title_sidebar": "Contents",
   "toc_cell": false,
   "toc_position": {},
   "toc_section_display": false,
   "toc_window_display": false
  }
 },
 "nbformat": 4,
 "nbformat_minor": 2
}
